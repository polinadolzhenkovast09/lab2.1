{
  "nbformat": 4,
  "nbformat_minor": 0,
  "metadata": {
    "colab": {
      "provenance": []
    },
    "kernelspec": {
      "name": "python3",
      "display_name": "Python 3"
    },
    "language_info": {
      "name": "python"
    }
  },
  "cells": [
    {
      "cell_type": "code",
      "execution_count": null,
      "metadata": {
        "id": "d7khYIVVlklI"
      },
      "outputs": [],
      "source": []
    },
    {
      "cell_type": "markdown",
      "source": [
        "2.1.1"
      ],
      "metadata": {
        "id": "BFwxmNgIlsaS"
      }
    },
    {
      "cell_type": "code",
      "source": [
        "import math\n",
        "\n",
        "def sgn(a):\n",
        "  if a > 0:\n",
        "    return 1\n",
        "  elif a == 0:\n",
        "    return 0\n",
        "  else:\n",
        "    return -1\n",
        "\n",
        "def calculate_z(x, y):\n",
        "  chisl = sgn(x) + y**2\n",
        "  znam = sgn(y) - (abs(x))**(1/2)\n",
        "\n",
        "  if znam == 0:\n",
        "    return None\n",
        "\n",
        "  return chisl / znam\n",
        "\n",
        "try:\n",
        "  x = float(input())\n",
        "  y = float(input())\n",
        "\n",
        "  result = calculate_z(x, y)\n",
        "  print(round(result, 2) if result is not None else \"Undefined\")\n",
        "\n",
        "except ValueError:\n",
        "  print(\"Ошибка: x и y должны быть числами!\")"
      ],
      "metadata": {
        "colab": {
          "base_uri": "https://localhost:8080/"
        },
        "id": "2zH1NCrhlvFq",
        "outputId": "f4aaadc6-bc1f-4a15-e5c4-a5188e90b282"
      },
      "execution_count": 2,
      "outputs": [
        {
          "output_type": "stream",
          "name": "stdout",
          "text": [
            "3\n",
            "4\n",
            "-23.22\n"
          ]
        }
      ]
    },
    {
      "cell_type": "markdown",
      "source": [
        "2.1.2"
      ],
      "metadata": {
        "id": "iate-z20moZX"
      }
    },
    {
      "cell_type": "code",
      "source": [
        "def avg(data):\n",
        "    return sum(data) / len(data)\n",
        "\n",
        "def cleared_data(data):\n",
        "    return [x for x in data if x is not None]\n",
        "\n",
        "n = int(input(\"Кол-во измерений: \"))\n",
        "\n",
        "data = []\n",
        "for i in range(n):\n",
        "    value = input(f\"Измерение {i+1}-е: \")\n",
        "    if value == '-':\n",
        "        data.append(None)\n",
        "    else:\n",
        "        data.append(int(value))\n",
        "\n",
        "cleaned = cleared_data(data)\n",
        "\n",
        "average_temp = avg(cleaned)\n",
        "\n",
        "print(f\"Средняя температура: {average_temp:.2f}\")"
      ],
      "metadata": {
        "colab": {
          "base_uri": "https://localhost:8080/"
        },
        "id": "kPfc74tKmrEp",
        "outputId": "8c8e157a-439d-44e3-e119-69efb1cf76ec"
      },
      "execution_count": 3,
      "outputs": [
        {
          "output_type": "stream",
          "name": "stdout",
          "text": [
            "Кол-во измерений: 4\n",
            "Измерение 1-е: 3\n",
            "Измерение 2-е: 4\n",
            "Измерение 3-е: 1\n",
            "Измерение 4-е: 4\n",
            "Средняя температура: 3.00\n"
          ]
        }
      ]
    },
    {
      "cell_type": "markdown",
      "source": [
        "2.1.3"
      ],
      "metadata": {
        "id": "HLX4hk8zm17o"
      }
    },
    {
      "cell_type": "code",
      "source": [
        "def is_lucky(num):\n",
        "    even_count = 0\n",
        "    odd_count = 0\n",
        "\n",
        "    for digit in str(num):\n",
        "        if int(digit) % 2 == 0:\n",
        "            even_count += 1\n",
        "        else:\n",
        "            odd_count += 1\n",
        "\n",
        "    return even_count == odd_count\n",
        "\n",
        "def lucky_numbers(a, b):\n",
        "  return[num for num in range(a, b + 1) if is_lucky(num)]\n",
        "\n",
        "a = int(input())\n",
        "b = int(input())\n",
        "\n",
        "if a < b:\n",
        "  result = lucky_numbers(a, b)\n",
        "  print(result)\n",
        "else:\n",
        "  print(\"Ошибка: a должно быть меньше b\")"
      ],
      "metadata": {
        "colab": {
          "base_uri": "https://localhost:8080/"
        },
        "id": "pQfR6VuMm5P6",
        "outputId": "82147639-6816-4529-ea43-b7322d191f8b"
      },
      "execution_count": 6,
      "outputs": [
        {
          "output_type": "stream",
          "name": "stdout",
          "text": [
            "54\n",
            "35\n",
            "Ошибка: a должно быть меньше b\n"
          ]
        }
      ]
    },
    {
      "cell_type": "markdown",
      "source": [
        "2.1.4"
      ],
      "metadata": {
        "id": "q8f87pA8nJ47"
      }
    },
    {
      "cell_type": "code",
      "source": [
        "def is_leap(year):\n",
        "# является ли високосным\n",
        "    return (year % 4 == 0 and year % 100 != 0) or (year % 400 == 0)\n",
        "\n",
        "\n",
        "def days(month, year):\n",
        "\n",
        "    if month in [1, 3, 5, 7, 8, 10, 12]:\n",
        "        return 31\n",
        "    elif month in [4, 6, 9, 11]:\n",
        "        return 30\n",
        "    elif month == 2:\n",
        "        return 29 if is_leap(year) else 28\n",
        "    else:\n",
        "        return 0  # на случай некорректного месяца\n",
        "\n",
        "\n",
        "def previous_date(day, month, year):\n",
        "\n",
        "    if day > 1:\n",
        "        return (day - 1, month, year)\n",
        "    else:\n",
        "        if month > 1:\n",
        "            prev_month = month - 1\n",
        "            prev_day = days(prev_month, year)\n",
        "            return (prev_day, prev_month, year)\n",
        "        else:\n",
        "            # Переход к предыдущему году\n",
        "            prev_year = year - 1\n",
        "            return (31, 12, prev_year)\n",
        "\n",
        "\n",
        "def next_date(day, month, year):\n",
        "\n",
        "    days_in_month = days(month, year)\n",
        "\n",
        "    if day < days_in_month:\n",
        "        return (day + 1, month, year)\n",
        "    else:\n",
        "        if month < 12:\n",
        "            return (1, month + 1, year)\n",
        "        else:\n",
        "            # Переход к следующему году\n",
        "            return (1, 1, year + 1)\n",
        "\n",
        "day, month, year = map(int, input(\"День, месяц, год через пробел: \").split())\n",
        "\n",
        "prev_day, prev_month, prev_year = previous_date(day, month, year)\n",
        "next_day, next_month, next_year = next_date(day, month, year)\n",
        "\n",
        "print(f\"Предыдущий день: {prev_day:02d}/{prev_month:02d}/{prev_year}\")\n",
        "print(f\"Следующий день: {next_day:02d}/{next_month:02d}/{next_year}\")"
      ],
      "metadata": {
        "colab": {
          "base_uri": "https://localhost:8080/"
        },
        "id": "uut3SVFlnLh3",
        "outputId": "ef499228-ab6b-4465-d51e-474cb8c216b9"
      },
      "execution_count": 8,
      "outputs": [
        {
          "output_type": "stream",
          "name": "stdout",
          "text": [
            "День, месяц, год через пробел: 20 02 2005\n",
            "Предыдущий день: 19/02/2005\n",
            "Следующий день: 21/02/2005\n"
          ]
        }
      ]
    },
    {
      "cell_type": "markdown",
      "source": [
        "2.1.5"
      ],
      "metadata": {
        "id": "eYbl9mXznafI"
      }
    },
    {
      "cell_type": "code",
      "source": [
        "def another_date(day, month, year, delta=1):\n",
        "\n",
        "    def is_leap(year):\n",
        "    # является ли високосным\n",
        "        return (year % 4 == 0 and year % 100 != 0) or (year % 400 == 0)\n",
        "\n",
        "\n",
        "    def days(month, year):\n",
        "\n",
        "        if month in [1, 3, 5, 7, 8, 10, 12]:\n",
        "            return 31\n",
        "        elif month in [4, 6, 9, 11]:\n",
        "            return 30\n",
        "        elif month == 2:\n",
        "            return 29 if is_leap(year) else 28\n",
        "        else:\n",
        "            return 0\n",
        "\n",
        "\n",
        "    def next_date(day, month, year):\n",
        "\n",
        "        days_in_month = days(month, year)\n",
        "\n",
        "        if day < days_in_month:\n",
        "            return (day + 1, month, year)\n",
        "        else:\n",
        "            if month < 12:\n",
        "                return (1, month + 1, year)\n",
        "            else:\n",
        "                return (1, 1, year + 1)\n",
        "\n",
        "\n",
        "    def previous_date(day, month, year):\n",
        "\n",
        "        if day > 1:\n",
        "            return (day - 1, month, year)\n",
        "        else:\n",
        "            if month > 1:\n",
        "                prev_month = month - 1\n",
        "                prev_day = days(prev_month, year)\n",
        "                return (prev_day, prev_month, year)\n",
        "            else:\n",
        "                prev_year = year - 1\n",
        "                return (31, 12, prev_year)\n",
        "\n",
        "    current_day, current_month, current_year = day, month, year\n",
        "\n",
        "    if delta >= 0:\n",
        "        # Добавляем дни\n",
        "        for _ in range(delta):\n",
        "            current_day, current_month, current_year = next_date(current_day, current_month, current_year)\n",
        "    else:\n",
        "        # Вычитаем дни (delta отрицательный)\n",
        "        for _ in range(abs(delta)):\n",
        "            current_day, current_month, current_year = previous_date(current_day, current_month, current_year)\n",
        "\n",
        "    return current_day, current_month, current_year\n",
        "\n",
        "\n",
        "day, month, year = map(int, input(\"День, месяц, год через пробел: \").split())\n",
        "delta = int(input(\"Сдвиг (может быть отрицательным): \"))\n",
        "\n",
        "new_day, new_month, new_year = another_date(day, month, year, delta)\n",
        "\n",
        "print(f\"Новый день: {new_day:02d}/{new_month:02d}/{new_year}\")"
      ],
      "metadata": {
        "colab": {
          "base_uri": "https://localhost:8080/"
        },
        "id": "2BXd5eDxnb6v",
        "outputId": "df492c55-05b7-45f9-9f27-a37143b08075"
      },
      "execution_count": 9,
      "outputs": [
        {
          "output_type": "stream",
          "name": "stdout",
          "text": [
            "День, месяц, год через пробел: 20 02 2005\n",
            "Сдвиг (может быть отрицательным): 5\n",
            "Новый день: 25/02/2005\n"
          ]
        }
      ]
    },
    {
      "cell_type": "markdown",
      "source": [
        "2.1.6"
      ],
      "metadata": {
        "id": "4PmFSx5Unm74"
      }
    },
    {
      "cell_type": "code",
      "source": [
        "def gcd(first, second):\n",
        "\n",
        "    a = abs(first)\n",
        "    b = abs(second)\n",
        "    while b:\n",
        "        a, b = b, a % b\n",
        "    return a\n",
        "\n",
        "\n",
        "def lcm(first, second):\n",
        "\n",
        "    if first == 0 or second == 0:\n",
        "        return 0\n",
        "    return abs(first * second) // gcd(first, second)\n",
        "\n",
        "\n",
        "def gcd_nums(nums):\n",
        "\n",
        "    if not nums:\n",
        "        return 0\n",
        "\n",
        "    result = nums[0]\n",
        "    for i in range(1, len(nums)):\n",
        "        result = gcd(result, nums[i])\n",
        "    return result\n",
        "\n",
        "\n",
        "def lcm_nums(nums):\n",
        "\n",
        "    if not nums:\n",
        "        return 0\n",
        "\n",
        "    result = nums[0]\n",
        "    for i in range(1, len(nums)):\n",
        "        result = lcm(result, nums[i])\n",
        "    return result\n",
        "\n",
        "\n",
        "# Ввод данных\n",
        "nums = list(map(int, input(\"Введите числа через пробел: \").split()))\n",
        "\n",
        "# Вычисление НОД и НОК\n",
        "gcd_result = gcd_nums(nums)\n",
        "lcm_result = lcm_nums(nums)\n",
        "\n",
        "# Вывод результатов\n",
        "print(f\"НОД = {gcd_result}\")\n",
        "print(f\"НОК = {lcm_result}\")"
      ],
      "metadata": {
        "colab": {
          "base_uri": "https://localhost:8080/"
        },
        "id": "hikAOnsznoJe",
        "outputId": "85ed0ffa-20dc-4d1d-b951-1e55b18a7bb7"
      },
      "execution_count": 10,
      "outputs": [
        {
          "output_type": "stream",
          "name": "stdout",
          "text": [
            "Введите числа через пробел: 23 32\n",
            "НОД = 1\n",
            "НОК = 736\n"
          ]
        }
      ]
    },
    {
      "cell_type": "markdown",
      "source": [
        "2.1.7"
      ],
      "metadata": {
        "id": "oZ9Uwxkzn1TS"
      }
    },
    {
      "cell_type": "code",
      "source": [
        "def has_digits(sentence):\n",
        "\n",
        "    for char in sentence:\n",
        "        if char.isdigit():\n",
        "            return True\n",
        "    return False\n",
        "\n",
        "\n",
        "def sentences_with_digits_count(sentences):\n",
        "\n",
        "    count = 0\n",
        "    for sentence in sentences:\n",
        "        if has_digits(sentence):\n",
        "            count += 1\n",
        "    return count\n",
        "\n",
        "\n",
        "n = int(input(\"Введите количество предложений: \"))\n",
        "\n",
        "sentences = []\n",
        "for i in range(n):\n",
        "    sentence = input(f\"Введите предложение №{i + 1}:\\n\")\n",
        "    sentences.append(sentence)\n",
        "\n",
        "result = sentences_with_digits_count(sentences)\n",
        "print(f\"Предложений с цифрой = {result}\")"
      ],
      "metadata": {
        "colab": {
          "base_uri": "https://localhost:8080/"
        },
        "id": "f0miAwzIn3do",
        "outputId": "72726258-8bf6-47f0-bf4e-065faa75559f"
      },
      "execution_count": 11,
      "outputs": [
        {
          "output_type": "stream",
          "name": "stdout",
          "text": [
            "Введите количество предложений: 2\n",
            "Введите предложение №1:\n",
            "sefef\n",
            "Введите предложение №2:\n",
            "wfwef\n",
            "Предложений с цифрой = 0\n"
          ]
        }
      ]
    },
    {
      "cell_type": "markdown",
      "source": [
        "2.1.8"
      ],
      "metadata": {
        "id": "RDDl2thcpZwA"
      }
    },
    {
      "cell_type": "code",
      "source": [
        "\n",
        "def print_with_border(string, char):\n",
        "    border = char * (len(string) + 2)\n",
        "    print(border)\n",
        "    print(f\"{char}{string}{char}\")\n",
        "    print(border)\n",
        "\n",
        "s = input(\"Введите строку: \")\n",
        "k = input(\"Введите символ: \")\n",
        "\n",
        "print_with_border(s, k)"
      ],
      "metadata": {
        "colab": {
          "base_uri": "https://localhost:8080/"
        },
        "id": "E9ixul5GpbwJ",
        "outputId": "43c2c53d-2565-43e3-8501-fe543aaf130d"
      },
      "execution_count": 12,
      "outputs": [
        {
          "output_type": "stream",
          "name": "stdout",
          "text": [
            "Введите строку: sdcsd\n",
            "Введите символ: s\n",
            "sssssss\n",
            "ssdcsds\n",
            "sssssss\n"
          ]
        }
      ]
    },
    {
      "cell_type": "markdown",
      "source": [
        "2.1.9"
      ],
      "metadata": {
        "id": "cq6atr7NpkCD"
      }
    },
    {
      "cell_type": "code",
      "source": [
        "LETTERS_EX = {10: \"A\", 11: \"B\", 12: \"C\", 13: \"D\", 14: \"E\", 15: \"F\"}\n",
        "DIGITS_EX = {\"A\": 10, \"B\": 11, \"C\": 12, \"D\": 13, \"E\": 14, \"F\": 15}\n",
        "\n",
        "\n",
        "def to_base(number, base):\n",
        "    \"\"\"Преобразовать десятичное число 'number' в с.с. 'base'.\"\"\"\n",
        "    if number == 0:\n",
        "        return \"0\"\n",
        "\n",
        "    d = []\n",
        "    n = number\n",
        "    while n > 0:\n",
        "        c = n % base\n",
        "        if c < 10:\n",
        "            d.append(str(c))\n",
        "        else:\n",
        "            d.append(LETTERS_EX[c])\n",
        "        n = n // base\n",
        "    d.reverse()\n",
        "    return ''.join(d)\n",
        "\n",
        "\n",
        "def from_base(number, base):\n",
        "    \"\"\"Преобразовать число в десятичную систему счисления\"\"\"\n",
        "    number_str = str(number).upper()\n",
        "    values = []\n",
        "\n",
        "    for position, digit_char in enumerate(number_str[::-1]):\n",
        "        if digit_char in DIGITS_EX:\n",
        "            digit_value = DIGITS_EX[digit_char]\n",
        "        else:\n",
        "            digit_value = int(digit_char)\n",
        "\n",
        "        values.append(digit_value * (base ** position))\n",
        "    return sum(values)\n",
        "\n",
        "\n",
        "base = int(input(\"Введите основание: \"))\n",
        "number = int(input(\"Введите число для перевода: \"))\n",
        "number_2 = input(\"Введите число для перевода в десятичную систему: \")\n",
        "\n",
        "print(to_base(number, base))\n",
        "print(from_base(number_2, base))"
      ],
      "metadata": {
        "id": "uKWeJl-Ypl56"
      },
      "execution_count": null,
      "outputs": []
    },
    {
      "cell_type": "markdown",
      "source": [
        "2.1.10"
      ],
      "metadata": {
        "id": "zmmaJl6fprMD"
      }
    },
    {
      "cell_type": "code",
      "source": [
        "def sentence_stats(sentence):\n",
        "\n",
        "    stats = {}\n",
        "    # Приводим все символы к нижнему регистру и перебираем\n",
        "    for char in sentence.lower():\n",
        "        if char in stats:\n",
        "            stats[char] += 1\n",
        "        else:\n",
        "            stats[char] = 1\n",
        "    return stats\n",
        "\n",
        "\n",
        "# Ввод предложения\n",
        "s = input(\"Введите предложение: \")\n",
        "\n",
        "# Получение статистики\n",
        "result = sentence_stats(s)\n",
        "\n",
        "# Вывод результата\n",
        "print(result)"
      ],
      "metadata": {
        "colab": {
          "base_uri": "https://localhost:8080/"
        },
        "id": "WjkeZbnnpsef",
        "outputId": "8dd73d18-4d40-40a8-96a4-8bd77760134c"
      },
      "execution_count": 13,
      "outputs": [
        {
          "output_type": "stream",
          "name": "stdout",
          "text": [
            "Введите предложение: efefsdfwe\n",
            "{'e': 3, 'f': 3, 's': 1, 'd': 1, 'w': 1}\n"
          ]
        }
      ]
    },
    {
      "cell_type": "markdown",
      "source": [
        "2.1.11"
      ],
      "metadata": {
        "id": "5qsE5y2IpyBf"
      }
    },
    {
      "cell_type": "code",
      "source": [
        "\n",
        "def ceasar(text, shift):\n",
        "\n",
        "    # Набор кириллических букв (строчные)\n",
        "    letters = [chr(i) for i in range(ord('а'), ord('я') + 1)]\n",
        "\n",
        "    result = []\n",
        "\n",
        "    for char in text:\n",
        "        if char.lower() in letters:\n",
        "            # Определяем индекс буквы в алфавите\n",
        "            if char.isupper():\n",
        "                # Для заглавных букв\n",
        "                index = letters.index(char.lower())\n",
        "                new_index = (index + shift) % len(letters)\n",
        "                result.append(letters[new_index].upper())\n",
        "            else:\n",
        "                # Для строчных букв\n",
        "                index = letters.index(char)\n",
        "                new_index = (index + shift) % len(letters)\n",
        "                result.append(letters[new_index])\n",
        "        else:\n",
        "            # Не буквы оставляем без изменений\n",
        "            result.append(char)\n",
        "\n",
        "    return ''.join(result)\n",
        "\n",
        "text = input(\"Введите предложение: \")\n",
        "shift = int(input(\"Введите сдвиг: \"))\n",
        "\n",
        "encoded = ceasar(text, shift)\n",
        "decoded = ceasar(encoded, -shift)  # сдвиг в обратную сторону для расшифровки\n",
        "\n",
        "print(\"Зашифрованная строка:\", encoded)\n",
        "print(\"Расшифрованная строка:\", decoded)"
      ],
      "metadata": {
        "colab": {
          "base_uri": "https://localhost:8080/"
        },
        "id": "GXComtLnp0Pg",
        "outputId": "e26753cd-57ff-4e33-a192-e19187a7bb04"
      },
      "execution_count": 14,
      "outputs": [
        {
          "output_type": "stream",
          "name": "stdout",
          "text": [
            "Введите предложение: dgdfgd\n",
            "Введите сдвиг: 3\n",
            "Зашифрованная строка: dgdfgd\n",
            "Расшифрованная строка: dgdfgd\n"
          ]
        }
      ]
    },
    {
      "cell_type": "markdown",
      "source": [
        "2.1.12"
      ],
      "metadata": {
        "id": "E5AuCjQxp7hw"
      }
    },
    {
      "cell_type": "code",
      "source": [
        "data = [\n",
        "    {1: 'ж', 2: 'м', 3: 'м', 4: 'ж'},\n",
        "    {1: 'ж', 2: 'м', 3: 'ж', 4: 'ж'},\n",
        "    {1: 'ж', 2: 'ж', 3: 'ж', 4: 'ж'},\n",
        "    {1: 'ж', 2: 'м', 3: 'м', 4: 'м'},\n",
        "    {1: None, 2: None, 3: None, 4: None},\n",
        "    {1: 'м', 2: None, 3: None, 4: 'ж'},\n",
        "    {1: None, 2: None, 3: None, 4: None},\n",
        "    {1: 'м', 2: 'м', 3: None, 4: 'м'},\n",
        "    {1: 'ж', 2: None, 3: None, 4: 'ж'}\n",
        "]\n",
        "\n",
        "\n",
        "def vacant_compartments(data):\n",
        "\n",
        "    result = []\n",
        "    for i, compartment in enumerate(data, 1):\n",
        "        # Проверяем, что все места в купе свободны (None)\n",
        "        if all(seat is None for seat in compartment.values()):\n",
        "            result.append(i)\n",
        "    return result\n",
        "\n",
        "\n",
        "def vacant_seats(data, compartments_condition=None, seat_condition=None):\n",
        "\n",
        "    result = []\n",
        "    for compartment_num, compartment in enumerate(data, 1):\n",
        "        # Проверяем условие для купе (если задано)\n",
        "        if compartments_condition is None or compartments_condition(compartment):\n",
        "            for seat_num, seat_value in compartment.items():\n",
        "                # Место свободно и удовлетворяет условию для места\n",
        "                if seat_value is None and (seat_condition is None or seat_condition(seat_num, seat_value)):\n",
        "                    result.append((compartment_num, seat_num))\n",
        "    return result\n",
        "\n",
        "\n",
        "def is_same_sex_and_vacant(compartment, sex):\n",
        "\n",
        "    # Проверяем, что все занятые места заняты пассажирами указанного пола\n",
        "    occupied_seats = [value for value in compartment.values() if value is not None]\n",
        "    vacant_seats = [value for value in compartment.values() if value is None]\n",
        "\n",
        "    # Есть свободные места и все занятые места заняты пассажирами нужного пола\n",
        "    return len(vacant_seats) > 0 and all(s == sex for s in occupied_seats)\n",
        "\n",
        "\n",
        "# список полностью свободных купе\n",
        "print(vacant_compartments(data))\n",
        "# список свободных мест в вагоне\n",
        "print(vacant_seats(data))\n",
        "# список свободных нижних мест\n",
        "print(vacant_seats(data, seat_condition=lambda seat, value: seat % 2 != 0))\n",
        "# список свободных верхних мест\n",
        "print(vacant_seats(data, seat_condition=lambda seat, value: seat % 2 == 0))\n",
        "# список свободных мест в купе с исключительно мужской компанией\n",
        "print(vacant_seats(data, lambda x: is_same_sex_and_vacant(x, \"м\")))\n",
        "# список свободных мест в купе с исключительно женской компанией\n",
        "print(vacant_seats(data, lambda x: is_same_sex_and_vacant(x, \"ж\")))"
      ],
      "metadata": {
        "colab": {
          "base_uri": "https://localhost:8080/"
        },
        "id": "i5-fx08Jp86R",
        "outputId": "f373a6c4-aa44-4b3e-fcf6-5e28d6cd43aa"
      },
      "execution_count": 19,
      "outputs": [
        {
          "output_type": "stream",
          "name": "stdout",
          "text": [
            "[5, 7]\n",
            "[(5, 1), (5, 2), (5, 3), (5, 4), (6, 2), (6, 3), (7, 1), (7, 2), (7, 3), (7, 4), (8, 3), (9, 2), (9, 3)]\n",
            "[(5, 1), (5, 3), (6, 3), (7, 1), (7, 3), (8, 3), (9, 3)]\n",
            "[(5, 2), (5, 4), (6, 2), (7, 2), (7, 4), (9, 2)]\n",
            "[(5, 1), (5, 2), (5, 3), (5, 4), (7, 1), (7, 2), (7, 3), (7, 4), (8, 3)]\n",
            "[(5, 1), (5, 2), (5, 3), (5, 4), (7, 1), (7, 2), (7, 3), (7, 4), (9, 2), (9, 3)]\n"
          ]
        }
      ]
    },
    {
      "cell_type": "markdown",
      "source": [
        "2.1.13"
      ],
      "metadata": {
        "id": "T2az2rx7qJ3h"
      }
    },
    {
      "cell_type": "code",
      "source": [
        "votes = [\n",
        "    5, 4, -1, 3, 4, 2, 1, 1, 1, 4, 1, 3, 1, 3, 5, -1, 5, 2, 5, 5,\n",
        "    5, 3, 2, 3, 3, 2, 2, 1, 3, 2, 5, 5, 2, 4, 1, 1, 3, 2, 2, 3, 3,\n",
        "    3, 1, 4, 2, 1, 4, 2, 2, 4, 1, -1, 5, 3, 1, 4, 5, 2, 2, 3, 3,\n",
        "    4, -1, 2, 3, 3, 2, 4, 1, 1, 5, -1, 4, 2, 2, 3, -1, 4, 2, 5, 4,\n",
        "    2, -1, 3, 1, 4, 3, 5, 4, 1, 5, 3, 2, 4, 2, 1, 5, 5, 1, 1, 3, 4\n",
        "]\n",
        "\n",
        "parties = {\n",
        "    1: \"Партия №1\", 2: \"Партия №2\", 3: \"Партия №3\",\n",
        "    4: \"Партия №4\", 5: \"Партия №5\", -1: \"Испорчено\"\n",
        "}\n",
        "\n",
        "\n",
        "def parties_votes(parties, votes):\n",
        "\n",
        "    result = {}\n",
        "    for vote in votes:\n",
        "        party_name = parties[vote]\n",
        "        if party_name in result:\n",
        "            result[party_name] += 1\n",
        "        else:\n",
        "            result[party_name] = 1\n",
        "    return result\n",
        "\n",
        "\n",
        "def print_results(votes_for_p):\n",
        "\n",
        "    # Общее количество голосов\n",
        "    total_votes = sum(votes_for_p.values())\n",
        "\n",
        "    # Сортируем партии по убыванию количества голосов\n",
        "    sorted_parties = sorted(votes_for_p.items(), key=lambda x: x[1], reverse=True)\n",
        "\n",
        "    # Выводим результаты\n",
        "    for i, (party_name, votes_count) in enumerate(sorted_parties, 1):\n",
        "        percentage = (votes_count / total_votes) * 100\n",
        "        # Форматируем вывод: выравниваем числа и проценты\n",
        "        print(f\"{i}. {party_name} | {votes_count:2d} | {percentage:5.2f}%\")\n",
        "\n",
        "\n",
        "print_results(parties_votes(parties, votes))"
      ],
      "metadata": {
        "colab": {
          "base_uri": "https://localhost:8080/"
        },
        "id": "5PuvU02bqNgR",
        "outputId": "52341863-de87-4c46-d80d-ad71e1806bdc"
      },
      "execution_count": 17,
      "outputs": [
        {
          "output_type": "stream",
          "name": "stdout",
          "text": [
            "1. Партия №2 | 22 | 21.57%\n",
            "2. Партия №3 | 21 | 20.59%\n",
            "3. Партия №1 | 19 | 18.63%\n",
            "4. Партия №4 | 17 | 16.67%\n",
            "5. Партия №5 | 16 | 15.69%\n",
            "6. Испорчено |  7 |  6.86%\n"
          ]
        }
      ]
    },
    {
      "cell_type": "markdown",
      "source": [
        "2.1.14"
      ],
      "metadata": {
        "id": "kKrZnh2RqQug"
      }
    },
    {
      "cell_type": "code",
      "source": [
        "def split_numbers(*args):\n",
        "\n",
        "    negative = []\n",
        "    non_negative = []\n",
        "\n",
        "    for num in args:\n",
        "        if num < 0:\n",
        "            negative.append(num)\n",
        "        else:\n",
        "            non_negative.append(num)\n",
        "\n",
        "    # Сортировка отрицательных по убыванию (от -1 до -∞)\n",
        "    negative.sort(reverse=True)\n",
        "    # Сортировка неотрицательных по возрастанию (от 0 до ∞)\n",
        "    non_negative.sort()\n",
        "\n",
        "    return negative, non_negative\n",
        "\n",
        "\n",
        "print(split_numbers(1, 3, -8, 0, -23))"
      ],
      "metadata": {
        "colab": {
          "base_uri": "https://localhost:8080/"
        },
        "id": "sO7kh9n8q1wV",
        "outputId": "906a113b-8220-4004-e89b-cbcf9d850d74"
      },
      "execution_count": 21,
      "outputs": [
        {
          "output_type": "stream",
          "name": "stdout",
          "text": [
            "([-8, -23], [0, 1, 3])\n"
          ]
        }
      ]
    },
    {
      "cell_type": "markdown",
      "source": [
        "2.1.15"
      ],
      "metadata": {
        "id": "-kwq4l_frB-3"
      }
    },
    {
      "cell_type": "code",
      "source": [
        "def gdp(c, i, g, ex, im):\n",
        "\n",
        "    return c + i + g + ex - im\n",
        "\n",
        "\n",
        "# Ввод данных с клавиатуры\n",
        "info_dict = {}\n",
        "info_list = []\n",
        "\n",
        "info_dict['c'] = int(input(\"Конечное потребление: \"))\n",
        "info_dict['i'] = int(input(\"Валовое накопление капитала: \"))\n",
        "info_dict['g'] = int(input(\"Государственные расходы: \"))\n",
        "info_dict['ex'] = int(input(\"Экспорт: \"))\n",
        "info_dict['im'] = int(input(\"Импорт: \"))\n",
        "\n",
        "# Сохраняем значения в список в том же порядке, что и параметры функции\n",
        "info_list = [info_dict['c'], info_dict['i'], info_dict['g'], info_dict['ex'], info_dict['im']]\n",
        "\n",
        "# Вычисление ВВП с использованием распаковки аргументов\n",
        "result_from_list = gdp(*info_list)  # распаковка списка\n",
        "result_from_dict = gdp(**info_dict)  # распаковка словаря\n",
        "\n",
        "# Вывод результатов\n",
        "print(f\"ВВП = {result_from_list}\")\n",
        "print(f\"ВВП = {result_from_list}\")"
      ],
      "metadata": {
        "colab": {
          "base_uri": "https://localhost:8080/"
        },
        "id": "oLbmQixlrD6T",
        "outputId": "356d4641-5efe-481b-98a0-0e7881db8893"
      },
      "execution_count": 22,
      "outputs": [
        {
          "output_type": "stream",
          "name": "stdout",
          "text": [
            "Конечное потребление: 45\n",
            "Валовое накопление капитала: 456\n",
            "Государственные расходы: 456\n",
            "Экспорт: 45\n",
            "Импорт: 4\n",
            "ВВП = 998\n",
            "ВВП = 998\n"
          ]
        }
      ]
    },
    {
      "cell_type": "markdown",
      "source": [
        "2.1.16"
      ],
      "metadata": {
        "id": "_Nern4qqrLIC"
      }
    },
    {
      "cell_type": "code",
      "source": [
        "def pow1(value, power):\n",
        "\n",
        "    result = 1\n",
        "    for _ in range(power):\n",
        "        result *= value\n",
        "    return result\n",
        "\n",
        "\n",
        "def pow2(value, power):\n",
        "\n",
        "    if power == 0:\n",
        "        return 1\n",
        "    elif power < 0:\n",
        "        return 1 / pow2(value, -power)\n",
        "    else:\n",
        "        return value * pow2(value, power - 1)\n",
        "\n",
        "\n",
        "print(pow1(2, 4))\n",
        "print(pow2(2, 4))"
      ],
      "metadata": {
        "colab": {
          "base_uri": "https://localhost:8080/"
        },
        "id": "NjPbHvA1rPdO",
        "outputId": "2ae10286-a5ff-4782-f824-ac4c93ab6cba"
      },
      "execution_count": 24,
      "outputs": [
        {
          "output_type": "stream",
          "name": "stdout",
          "text": [
            "16\n",
            "16\n"
          ]
        }
      ]
    },
    {
      "cell_type": "markdown",
      "source": [
        "2.1.17"
      ],
      "metadata": {
        "id": "u83XMiSzrXg0"
      }
    },
    {
      "cell_type": "code",
      "source": [
        "def digits_sum(value):\n",
        "    if value == 0:\n",
        "        return 0\n",
        "    else:\n",
        "        return value % 10 + digits_sum(value // 10)\n",
        "\n",
        "\n",
        "def digits_count(value):\n",
        "\n",
        "    if value == 0:\n",
        "        return 0\n",
        "    else:\n",
        "        return 1 + digits_count(value // 10)\n",
        "\n",
        "\n",
        "print(digits_sum(43435))\n",
        "print(digits_count(43435))"
      ],
      "metadata": {
        "colab": {
          "base_uri": "https://localhost:8080/"
        },
        "id": "bpyV9aGerYsw",
        "outputId": "c82a2687-dbae-436c-ad7e-2afd282741ab"
      },
      "execution_count": 27,
      "outputs": [
        {
          "output_type": "stream",
          "name": "stdout",
          "text": [
            "19\n",
            "5\n"
          ]
        }
      ]
    },
    {
      "cell_type": "markdown",
      "source": [
        "2.1.18"
      ],
      "metadata": {
        "id": "SOXeq36JrrYz"
      }
    },
    {
      "cell_type": "code",
      "source": [
        "def sum_digits_rec(number):\n",
        "\n",
        "    if number == 0:\n",
        "        return 0\n",
        "    else:\n",
        "        return number % 10 + sum_digits_rec(number // 10)\n",
        "\n",
        "\n",
        "print(sum_digits_rec(36823))\n",
        "print(sum_digits_rec(4536))"
      ],
      "metadata": {
        "colab": {
          "base_uri": "https://localhost:8080/"
        },
        "id": "P8PozFAcrtCG",
        "outputId": "ef6fc691-8055-4b98-cc93-1e06819817bd"
      },
      "execution_count": 28,
      "outputs": [
        {
          "output_type": "stream",
          "name": "stdout",
          "text": [
            "22\n",
            "18\n"
          ]
        }
      ]
    },
    {
      "cell_type": "markdown",
      "source": [
        "2.1.19"
      ],
      "metadata": {
        "id": "NGSyxuT6r03d"
      }
    },
    {
      "cell_type": "code",
      "source": [
        "def fibonacci_rec(n):\n",
        "\n",
        "    if n == 0:\n",
        "        return 0\n",
        "    elif n == 1:\n",
        "        return 1\n",
        "    else:\n",
        "        return fibonacci_rec(n - 1) + fibonacci_rec(n - 2)\n",
        "\n",
        "\n",
        "print(fibonacci_rec(9))\n",
        "print(fibonacci_rec(4))"
      ],
      "metadata": {
        "colab": {
          "base_uri": "https://localhost:8080/"
        },
        "id": "XWyVr-OTr2NT",
        "outputId": "8642efbd-e901-4940-a2b8-9c669c8365e4"
      },
      "execution_count": 30,
      "outputs": [
        {
          "output_type": "stream",
          "name": "stdout",
          "text": [
            "34\n",
            "3\n"
          ]
        }
      ]
    },
    {
      "cell_type": "markdown",
      "source": [
        "2.1.20"
      ],
      "metadata": {
        "id": "YsGylc9Wr7kZ"
      }
    },
    {
      "cell_type": "code",
      "source": [
        "def reverse_string_rec(s):\n",
        "\n",
        "    if len(s) == 0:\n",
        "        return s\n",
        "    else:\n",
        "        return reverse_string_rec(s[1:]) + s[0]\n",
        "\n",
        "\n",
        "print(reverse_string_rec(\"hello\"))\n",
        "print(reverse_string_rec(\"ahahh\"))"
      ],
      "metadata": {
        "colab": {
          "base_uri": "https://localhost:8080/"
        },
        "id": "d5Eha9KNr82a",
        "outputId": "36868d91-7313-42aa-bf60-e9764a766a5f"
      },
      "execution_count": 31,
      "outputs": [
        {
          "output_type": "stream",
          "name": "stdout",
          "text": [
            "olleh\n",
            "hhaha\n"
          ]
        }
      ]
    },
    {
      "cell_type": "markdown",
      "source": [
        "2.1.21"
      ],
      "metadata": {
        "id": "TPQ_QLkmsEsv"
      }
    },
    {
      "cell_type": "code",
      "source": [
        "def is_palindrome_rec(s):\n",
        "\n",
        "    s = s.lower()\n",
        "\n",
        "    if len(s) <= 1:\n",
        "        return True\n",
        "    elif s[0] == s[-1]:\n",
        "        return is_palindrome_rec(s[1:-1])\n",
        "    else:\n",
        "        return False\n",
        "\n",
        "\n",
        "print(is_palindrome_rec(\"sdfsg\"))\n",
        "print(is_palindrome_rec(\"fdbbdf\"))\n",
        "print(is_palindrome_rec(\"wefoe\"))"
      ],
      "metadata": {
        "colab": {
          "base_uri": "https://localhost:8080/"
        },
        "id": "0SeZ_Va4sGkD",
        "outputId": "60c167eb-a751-4560-e79a-631a1ffde9df"
      },
      "execution_count": 32,
      "outputs": [
        {
          "output_type": "stream",
          "name": "stdout",
          "text": [
            "False\n",
            "True\n",
            "False\n"
          ]
        }
      ]
    },
    {
      "cell_type": "markdown",
      "source": [
        "2.1.22"
      ],
      "metadata": {
        "id": "KtT8HMpasObT"
      }
    },
    {
      "cell_type": "code",
      "source": [
        "def sum_list_rec(numbers):\n",
        "\n",
        "    if len(numbers) == 0:\n",
        "        return 0\n",
        "    else:\n",
        "        return numbers[0] + sum_list_rec(numbers[1:])\n",
        "\n",
        "\n",
        "my_list = [3, 2, 5, 3, 2, 7]\n",
        "print(sum_list_rec(my_list))\n",
        "print(sum_list_rec([]))"
      ],
      "metadata": {
        "colab": {
          "base_uri": "https://localhost:8080/"
        },
        "id": "XIWBuEqWsQsN",
        "outputId": "c788ba5f-6c3d-48bf-ed93-cb916a21786c"
      },
      "execution_count": 33,
      "outputs": [
        {
          "output_type": "stream",
          "name": "stdout",
          "text": [
            "22\n",
            "0\n"
          ]
        }
      ]
    },
    {
      "cell_type": "markdown",
      "source": [
        "2.1.23"
      ],
      "metadata": {
        "id": "5qDymmujsYzh"
      }
    },
    {
      "cell_type": "code",
      "source": [
        "def print_numbers_down_rec(n):\n",
        "\n",
        "    if n >= 1:\n",
        "        print(n)\n",
        "        print_numbers_down_rec(n - 1)\n",
        "\n",
        "\n",
        "print_numbers_down_rec(23)"
      ],
      "metadata": {
        "colab": {
          "base_uri": "https://localhost:8080/"
        },
        "id": "JClxCIy7saAJ",
        "outputId": "189b71f5-1391-496c-b865-1305a91e8d61"
      },
      "execution_count": 34,
      "outputs": [
        {
          "output_type": "stream",
          "name": "stdout",
          "text": [
            "23\n",
            "22\n",
            "21\n",
            "20\n",
            "19\n",
            "18\n",
            "17\n",
            "16\n",
            "15\n",
            "14\n",
            "13\n",
            "12\n",
            "11\n",
            "10\n",
            "9\n",
            "8\n",
            "7\n",
            "6\n",
            "5\n",
            "4\n",
            "3\n",
            "2\n",
            "1\n"
          ]
        }
      ]
    },
    {
      "cell_type": "markdown",
      "source": [
        "2.1.24"
      ],
      "metadata": {
        "id": "hziMlrL-seYM"
      }
    },
    {
      "cell_type": "code",
      "source": [
        "\n",
        "def gcd_rec(a, b):\n",
        "\n",
        "    if b == 0:\n",
        "        return abs(a)\n",
        "    else:\n",
        "        return gcd_rec(b, a % b)\n",
        "\n",
        "\n",
        "print(gcd_rec(37, 2))\n",
        "print(gcd_rec(153, 10))"
      ],
      "metadata": {
        "colab": {
          "base_uri": "https://localhost:8080/"
        },
        "id": "zuCZELi8shjJ",
        "outputId": "fe3ae410-de2c-48a0-9612-9f6c75c69661"
      },
      "execution_count": 35,
      "outputs": [
        {
          "output_type": "stream",
          "name": "stdout",
          "text": [
            "1\n",
            "1\n"
          ]
        }
      ]
    },
    {
      "cell_type": "markdown",
      "source": [
        "2.1.25"
      ],
      "metadata": {
        "id": "9in5YbIvsoNb"
      }
    },
    {
      "cell_type": "code",
      "source": [
        "def to_binary_rec(n):\n",
        "\n",
        "    if n == 0:\n",
        "        return \"0\"\n",
        "    elif n == 1:\n",
        "        return \"1\"\n",
        "    else:\n",
        "        return to_binary_rec(n // 2) + str(n % 2)\n",
        "\n",
        "\n",
        "print(to_binary_rec(234))\n",
        "print(to_binary_rec(434))\n",
        "print(to_binary_rec(0))"
      ],
      "metadata": {
        "colab": {
          "base_uri": "https://localhost:8080/"
        },
        "id": "piACytd_squA",
        "outputId": "095eeff8-ee5d-4423-a43c-826f81f048ca"
      },
      "execution_count": 36,
      "outputs": [
        {
          "output_type": "stream",
          "name": "stdout",
          "text": [
            "11101010\n",
            "110110010\n",
            "0\n"
          ]
        }
      ]
    },
    {
      "cell_type": "markdown",
      "source": [
        "2.1.28"
      ],
      "metadata": {
        "id": "_mgKOu71svCm"
      }
    },
    {
      "cell_type": "code",
      "source": [
        "def digital_root_rec(n):\n",
        "\n",
        "    if n < 10:\n",
        "        return n\n",
        "    else:\n",
        "        # Суммируем цифры числа\n",
        "        digit_sum = 0\n",
        "        for digit in str(n):\n",
        "            digit_sum += int(digit)\n",
        "        # Рекурсивно находим цифровой корень суммы\n",
        "        return digital_root_rec(digit_sum)\n",
        "\n",
        "\n",
        "print(digital_root_rec(23453))\n",
        "print(digital_root_rec(3242))\n",
        "print(digital_root_rec(353))"
      ],
      "metadata": {
        "colab": {
          "base_uri": "https://localhost:8080/"
        },
        "id": "du8et-fusx_9",
        "outputId": "e1ba30c7-72ac-4efc-d158-a55cab2f4f9e"
      },
      "execution_count": 37,
      "outputs": [
        {
          "output_type": "stream",
          "name": "stdout",
          "text": [
            "8\n",
            "2\n",
            "2\n"
          ]
        }
      ]
    },
    {
      "cell_type": "markdown",
      "source": [
        "2.1.29"
      ],
      "metadata": {
        "id": "-VewGfVas7Fq"
      }
    },
    {
      "cell_type": "code",
      "source": [
        "def find_max_rec(numbers):\n",
        "\n",
        "    if len(numbers) == 1:\n",
        "        return numbers[0]\n",
        "    else:\n",
        "        # Находим максимум в оставшейся части списка\n",
        "        max_rest = find_max_rec(numbers[1:])\n",
        "        # Сравниваем первый элемент с максимумом оставшейся части\n",
        "        return numbers[0] if numbers[0] > max_rest else max_rest\n",
        "\n",
        "\n",
        "my_list = [23, 35, 25, 64, 53, 43]\n",
        "print(find_max_rec(my_list))"
      ],
      "metadata": {
        "colab": {
          "base_uri": "https://localhost:8080/"
        },
        "id": "y9s-Kuggs8Nn",
        "outputId": "2f60686e-23f7-4f22-ed43-c5760cb9376b"
      },
      "execution_count": 38,
      "outputs": [
        {
          "output_type": "stream",
          "name": "stdout",
          "text": [
            "64\n"
          ]
        }
      ]
    },
    {
      "cell_type": "markdown",
      "source": [
        "2.1.30"
      ],
      "metadata": {
        "id": "OfroZu_ctH6a"
      }
    },
    {
      "cell_type": "code",
      "source": [
        "def calculate_deposit_rec(principal, rate, years):\n",
        "\n",
        "    if years == 0:\n",
        "        return principal\n",
        "    else:\n",
        "        new_principal = principal * (1 + rate)\n",
        "        return calculate_deposit_rec(new_principal, rate, years - 1)\n",
        "\n",
        "final_amount = calculate_deposit_rec(2384, 0.04, 3)\n",
        "print(f\"{final_amount:.2f}\")"
      ],
      "metadata": {
        "colab": {
          "base_uri": "https://localhost:8080/"
        },
        "id": "GmxjjezFtJyj",
        "outputId": "6f2edb45-8d63-48c9-9ba9-ae6c044619e0"
      },
      "execution_count": 39,
      "outputs": [
        {
          "output_type": "stream",
          "name": "stdout",
          "text": [
            "2681.68\n"
          ]
        }
      ]
    }
  ]
}